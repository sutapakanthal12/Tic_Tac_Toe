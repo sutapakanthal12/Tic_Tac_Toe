{
 "cells": [
  {
   "cell_type": "code",
   "execution_count": 1,
   "id": "e28ba72e-9b20-4512-90fa-dd47aaa76641",
   "metadata": {},
   "outputs": [
    {
     "name": "stdout",
     "output_type": "stream",
     "text": [
      "Welcome to Tic Tac Toe\n",
      "0 | 1 | 2\n",
      "---|---|---\n",
      "3 | 4 | 5\n",
      "---|---|---\n",
      "6 | 7 | 8\n",
      "X's chance\n"
     ]
    },
    {
     "name": "stdin",
     "output_type": "stream",
     "text": [
      "Please enter a value 3\n"
     ]
    },
    {
     "name": "stdout",
     "output_type": "stream",
     "text": [
      "0 | 1 | 2\n",
      "---|---|---\n",
      "X | 4 | 5\n",
      "---|---|---\n",
      "6 | 7 | 8\n",
      "0's chance\n"
     ]
    },
    {
     "name": "stdin",
     "output_type": "stream",
     "text": [
      "Please enter a value 2\n"
     ]
    },
    {
     "name": "stdout",
     "output_type": "stream",
     "text": [
      "0 | 1 | O\n",
      "---|---|---\n",
      "X | 4 | 5\n",
      "---|---|---\n",
      "6 | 7 | 8\n",
      "X's chance\n"
     ]
    },
    {
     "name": "stdin",
     "output_type": "stream",
     "text": [
      "Please enter a value 4\n"
     ]
    },
    {
     "name": "stdout",
     "output_type": "stream",
     "text": [
      "0 | 1 | O\n",
      "---|---|---\n",
      "X | X | 5\n",
      "---|---|---\n",
      "6 | 7 | 8\n",
      "0's chance\n"
     ]
    },
    {
     "name": "stdin",
     "output_type": "stream",
     "text": [
      "Please enter a value 1\n"
     ]
    },
    {
     "name": "stdout",
     "output_type": "stream",
     "text": [
      "0 | O | O\n",
      "---|---|---\n",
      "X | X | 5\n",
      "---|---|---\n",
      "6 | 7 | 8\n",
      "X's chance\n"
     ]
    },
    {
     "name": "stdin",
     "output_type": "stream",
     "text": [
      "Please enter a value 5\n"
     ]
    },
    {
     "name": "stdout",
     "output_type": "stream",
     "text": [
      "X won the match\n",
      "Match over\n"
     ]
    }
   ],
   "source": [
    "def sum(a,b,c):\n",
    "    return a+b+c\n",
    "def printBoard(xState,zState):\n",
    "    zero='X' if xState[0] else ('O' if zState[0] else 0)\n",
    "    one='X' if xState[1] else ('O' if zState[1] else 1)\n",
    "    two='X' if xState[2] else ('O' if zState[2] else 2)\n",
    "    three='X' if xState[3] else ('O' if zState[3] else 3)\n",
    "    four='X' if xState[4] else ('O' if zState[4] else 4)\n",
    "    five='X' if xState[5] else ('O' if zState[5] else 5)\n",
    "    six='X' if xState[6] else ('O' if zState[6] else 6)\n",
    "    seven='X' if xState[7] else ('O' if zState[7] else 7)\n",
    "    eight='X' if xState[8] else ('O' if zState[8] else 8)\n",
    "    print(f\"{zero} | {one} | {two}\")\n",
    "    print(f\"---|---|---\")\n",
    "    print(f\"{three} | {four} | {five}\")\n",
    "    print(f\"---|---|---\")\n",
    "    print(f\"{six} | {seven} | {eight}\")\n",
    "    \n",
    "def checkwin(xState,zState):\n",
    "    wins = [[0,1,2],[3,4,5],[6,7,8],[0,3,6],[1,4,7],[2,5,8],[0,4,8],[2,4,6]]\n",
    "    for win in wins:\n",
    "        if(sum(xState[win[0]] ,xState[win[1]] ,xState[win[2]]) ==3 ):\n",
    "            print(\"X won the match\")\n",
    "            return 1\n",
    "        if(sum(zState[win[0]] ,zState[win[1]] ,zState[win[2]]) ==3 ):\n",
    "            print(\"0 won the match\")\n",
    "            return 0\n",
    "    return -1   \n",
    "if __name__==\"__main__\":\n",
    "    xState=[0,0,0,0,0,0,0,0,0]\n",
    "    zState=[0,0,0,0,0,0,0,0,0]\n",
    "    turn = 1 # 1 for x and 0 for o\n",
    "    print(\"Welcome to Tic Tac Toe\")\n",
    "    while(True):\n",
    "        printBoard(xState,zState)\n",
    "        if(turn==1):\n",
    "            print(\"X's chance\")\n",
    "            value=int(input(\"Please enter a value\"))\n",
    "            xState[value]=1\n",
    "        else:\n",
    "            print(\"0's chance\")\n",
    "            value=int(input(\"Please enter a value\"))\n",
    "            zState[value]=1\n",
    "        cwin = checkwin(xState,zState) \n",
    "        if(cwin !=-1):\n",
    "            print(\"Match over\")\n",
    "            break\n",
    "        turn=1-turn\n",
    "        \n",
    "    \n"
   ]
  },
  {
   "cell_type": "code",
   "execution_count": null,
   "id": "d0a62f78-ca25-4ad9-9c96-4ab73187a1fc",
   "metadata": {},
   "outputs": [],
   "source": []
  }
 ],
 "metadata": {
  "kernelspec": {
   "display_name": "Python 3 (ipykernel)",
   "language": "python",
   "name": "python3"
  },
  "language_info": {
   "codemirror_mode": {
    "name": "ipython",
    "version": 3
   },
   "file_extension": ".py",
   "mimetype": "text/x-python",
   "name": "python",
   "nbconvert_exporter": "python",
   "pygments_lexer": "ipython3",
   "version": "3.10.8"
  }
 },
 "nbformat": 4,
 "nbformat_minor": 5
}
